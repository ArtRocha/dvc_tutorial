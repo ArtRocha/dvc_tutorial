{
 "cells": [
  {
   "cell_type": "code",
   "execution_count": 2,
   "metadata": {},
   "outputs": [
    {
     "name": "stdout",
     "output_type": "stream",
     "text": [
      "data/raw/iris.csv\n"
     ]
    }
   ],
   "source": [
    "import yaml\n",
    "with open('params.yaml') as config_file:\n",
    "    config = yaml.safe_load(config_file)\n",
    "    \n",
    "print(config['data_load']['dataset_csv'])"
   ]
  }
 ],
 "metadata": {
  "kernelspec": {
   "display_name": "dvc",
   "language": "python",
   "name": "python3"
  },
  "language_info": {
   "codemirror_mode": {
    "name": "ipython",
    "version": 3
   },
   "file_extension": ".py",
   "mimetype": "text/x-python",
   "name": "python",
   "nbconvert_exporter": "python",
   "pygments_lexer": "ipython3",
   "version": "3.9.21"
  }
 },
 "nbformat": 4,
 "nbformat_minor": 2
}
